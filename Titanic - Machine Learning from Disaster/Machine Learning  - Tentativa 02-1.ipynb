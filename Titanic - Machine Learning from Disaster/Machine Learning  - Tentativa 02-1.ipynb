{
 "cells": [
  {
   "cell_type": "markdown",
   "metadata": {},
   "source": [
    "# Iniciando processo"
   ]
  },
  {
   "cell_type": "markdown",
   "metadata": {},
   "source": [
    "## Iniciando as bibliotecas"
   ]
  },
  {
   "cell_type": "code",
   "execution_count": 58,
   "metadata": {
    "ExecuteTime": {
     "end_time": "2020-07-06T02:17:06.149068Z",
     "start_time": "2020-07-06T02:17:06.143894Z"
    }
   },
   "outputs": [],
   "source": [
    "import pandas as pd\n",
    "import numpy as np\n",
    "\n",
    "import matplotlib.pyplot as plt\n",
    "import seaborn as sns"
   ]
  },
  {
   "cell_type": "markdown",
   "metadata": {},
   "source": [
    "## Carregando e organizado os dados"
   ]
  },
  {
   "cell_type": "code",
   "execution_count": 59,
   "metadata": {
    "ExecuteTime": {
     "end_time": "2020-07-06T02:17:06.920007Z",
     "start_time": "2020-07-06T02:17:06.627071Z"
    }
   },
   "outputs": [],
   "source": [
    "train = pd.read_csv('train_limpo_2.csv', index_col=0)"
   ]
  },
  {
   "cell_type": "code",
   "execution_count": 60,
   "metadata": {
    "ExecuteTime": {
     "end_time": "2020-07-06T02:17:07.079229Z",
     "start_time": "2020-07-06T02:17:07.049526Z"
    }
   },
   "outputs": [
    {
     "data": {
      "text/html": [
       "<div>\n",
       "<style scoped>\n",
       "    .dataframe tbody tr th:only-of-type {\n",
       "        vertical-align: middle;\n",
       "    }\n",
       "\n",
       "    .dataframe tbody tr th {\n",
       "        vertical-align: top;\n",
       "    }\n",
       "\n",
       "    .dataframe thead th {\n",
       "        text-align: right;\n",
       "    }\n",
       "</style>\n",
       "<table border=\"1\" class=\"dataframe\">\n",
       "  <thead>\n",
       "    <tr style=\"text-align: right;\">\n",
       "      <th></th>\n",
       "      <th>Survived</th>\n",
       "      <th>Pclass</th>\n",
       "      <th>Parch</th>\n",
       "      <th>male</th>\n",
       "      <th>Q</th>\n",
       "      <th>S</th>\n",
       "      <th>Elderly</th>\n",
       "      <th>Young</th>\n",
       "      <th>Miss</th>\n",
       "      <th>Mr</th>\n",
       "      <th>Mrs</th>\n",
       "      <th>Outros</th>\n",
       "      <th>F2</th>\n",
       "      <th>F3</th>\n",
       "      <th>F4</th>\n",
       "      <th>FamilySize</th>\n",
       "      <th>IsAlone</th>\n",
       "    </tr>\n",
       "  </thead>\n",
       "  <tbody>\n",
       "    <tr>\n",
       "      <th>0</th>\n",
       "      <td>0</td>\n",
       "      <td>3</td>\n",
       "      <td>0</td>\n",
       "      <td>1</td>\n",
       "      <td>0</td>\n",
       "      <td>1</td>\n",
       "      <td>0</td>\n",
       "      <td>0</td>\n",
       "      <td>0</td>\n",
       "      <td>1</td>\n",
       "      <td>0</td>\n",
       "      <td>0</td>\n",
       "      <td>0</td>\n",
       "      <td>0</td>\n",
       "      <td>0</td>\n",
       "      <td>2</td>\n",
       "      <td>0</td>\n",
       "    </tr>\n",
       "    <tr>\n",
       "      <th>1</th>\n",
       "      <td>1</td>\n",
       "      <td>1</td>\n",
       "      <td>0</td>\n",
       "      <td>0</td>\n",
       "      <td>0</td>\n",
       "      <td>0</td>\n",
       "      <td>0</td>\n",
       "      <td>0</td>\n",
       "      <td>0</td>\n",
       "      <td>0</td>\n",
       "      <td>1</td>\n",
       "      <td>0</td>\n",
       "      <td>0</td>\n",
       "      <td>0</td>\n",
       "      <td>1</td>\n",
       "      <td>2</td>\n",
       "      <td>0</td>\n",
       "    </tr>\n",
       "    <tr>\n",
       "      <th>2</th>\n",
       "      <td>1</td>\n",
       "      <td>3</td>\n",
       "      <td>0</td>\n",
       "      <td>0</td>\n",
       "      <td>0</td>\n",
       "      <td>1</td>\n",
       "      <td>0</td>\n",
       "      <td>0</td>\n",
       "      <td>1</td>\n",
       "      <td>0</td>\n",
       "      <td>0</td>\n",
       "      <td>0</td>\n",
       "      <td>1</td>\n",
       "      <td>0</td>\n",
       "      <td>0</td>\n",
       "      <td>1</td>\n",
       "      <td>1</td>\n",
       "    </tr>\n",
       "    <tr>\n",
       "      <th>3</th>\n",
       "      <td>1</td>\n",
       "      <td>1</td>\n",
       "      <td>0</td>\n",
       "      <td>0</td>\n",
       "      <td>0</td>\n",
       "      <td>1</td>\n",
       "      <td>0</td>\n",
       "      <td>0</td>\n",
       "      <td>0</td>\n",
       "      <td>0</td>\n",
       "      <td>1</td>\n",
       "      <td>0</td>\n",
       "      <td>0</td>\n",
       "      <td>0</td>\n",
       "      <td>1</td>\n",
       "      <td>2</td>\n",
       "      <td>0</td>\n",
       "    </tr>\n",
       "    <tr>\n",
       "      <th>4</th>\n",
       "      <td>0</td>\n",
       "      <td>3</td>\n",
       "      <td>0</td>\n",
       "      <td>1</td>\n",
       "      <td>0</td>\n",
       "      <td>1</td>\n",
       "      <td>0</td>\n",
       "      <td>0</td>\n",
       "      <td>0</td>\n",
       "      <td>1</td>\n",
       "      <td>0</td>\n",
       "      <td>0</td>\n",
       "      <td>1</td>\n",
       "      <td>0</td>\n",
       "      <td>0</td>\n",
       "      <td>1</td>\n",
       "      <td>1</td>\n",
       "    </tr>\n",
       "  </tbody>\n",
       "</table>\n",
       "</div>"
      ],
      "text/plain": [
       "   Survived  Pclass  Parch  male  Q  S  Elderly  Young  Miss  Mr  Mrs  Outros  \\\n",
       "0         0       3      0     1  0  1        0      0     0   1    0       0   \n",
       "1         1       1      0     0  0  0        0      0     0   0    1       0   \n",
       "2         1       3      0     0  0  1        0      0     1   0    0       0   \n",
       "3         1       1      0     0  0  1        0      0     0   0    1       0   \n",
       "4         0       3      0     1  0  1        0      0     0   1    0       0   \n",
       "\n",
       "   F2  F3  F4  FamilySize  IsAlone  \n",
       "0   0   0   0           2        0  \n",
       "1   0   0   1           2        0  \n",
       "2   1   0   0           1        1  \n",
       "3   0   0   1           2        0  \n",
       "4   1   0   0           1        1  "
      ]
     },
     "execution_count": 60,
     "metadata": {},
     "output_type": "execute_result"
    }
   ],
   "source": [
    "train.head()"
   ]
  },
  {
   "cell_type": "code",
   "execution_count": 61,
   "metadata": {
    "ExecuteTime": {
     "end_time": "2020-07-06T02:17:07.207082Z",
     "start_time": "2020-07-06T02:17:07.082792Z"
    }
   },
   "outputs": [],
   "source": [
    "X_train_of = train.drop(['Survived'], axis=1)\n",
    "y_train_of = train['Survived']"
   ]
  },
  {
   "cell_type": "code",
   "execution_count": 62,
   "metadata": {
    "ExecuteTime": {
     "end_time": "2020-07-06T02:17:07.581289Z",
     "start_time": "2020-07-06T02:17:07.532561Z"
    }
   },
   "outputs": [],
   "source": [
    "test = pd.read_csv('test_limpo_2.csv', index_col=0)\n",
    "PassengerId = test['PassengerId']\n",
    "X_test_of = test.drop('PassengerId',axis=1)"
   ]
  },
  {
   "cell_type": "code",
   "execution_count": 63,
   "metadata": {
    "ExecuteTime": {
     "end_time": "2020-07-06T02:17:07.751167Z",
     "start_time": "2020-07-06T02:17:07.723208Z"
    }
   },
   "outputs": [
    {
     "data": {
      "text/html": [
       "<div>\n",
       "<style scoped>\n",
       "    .dataframe tbody tr th:only-of-type {\n",
       "        vertical-align: middle;\n",
       "    }\n",
       "\n",
       "    .dataframe tbody tr th {\n",
       "        vertical-align: top;\n",
       "    }\n",
       "\n",
       "    .dataframe thead th {\n",
       "        text-align: right;\n",
       "    }\n",
       "</style>\n",
       "<table border=\"1\" class=\"dataframe\">\n",
       "  <thead>\n",
       "    <tr style=\"text-align: right;\">\n",
       "      <th></th>\n",
       "      <th>Pclass</th>\n",
       "      <th>Parch</th>\n",
       "      <th>male</th>\n",
       "      <th>Q</th>\n",
       "      <th>S</th>\n",
       "      <th>Elderly</th>\n",
       "      <th>Young</th>\n",
       "      <th>Miss</th>\n",
       "      <th>Mr</th>\n",
       "      <th>Mrs</th>\n",
       "      <th>Outros</th>\n",
       "      <th>F2</th>\n",
       "      <th>F3</th>\n",
       "      <th>F4</th>\n",
       "      <th>FamilySize</th>\n",
       "      <th>IsAlone</th>\n",
       "    </tr>\n",
       "  </thead>\n",
       "  <tbody>\n",
       "    <tr>\n",
       "      <th>0</th>\n",
       "      <td>3</td>\n",
       "      <td>0</td>\n",
       "      <td>1</td>\n",
       "      <td>1</td>\n",
       "      <td>0</td>\n",
       "      <td>0</td>\n",
       "      <td>0</td>\n",
       "      <td>0</td>\n",
       "      <td>1</td>\n",
       "      <td>0</td>\n",
       "      <td>0</td>\n",
       "      <td>0</td>\n",
       "      <td>0</td>\n",
       "      <td>0</td>\n",
       "      <td>1</td>\n",
       "      <td>1</td>\n",
       "    </tr>\n",
       "    <tr>\n",
       "      <th>1</th>\n",
       "      <td>3</td>\n",
       "      <td>0</td>\n",
       "      <td>0</td>\n",
       "      <td>0</td>\n",
       "      <td>1</td>\n",
       "      <td>0</td>\n",
       "      <td>0</td>\n",
       "      <td>0</td>\n",
       "      <td>0</td>\n",
       "      <td>1</td>\n",
       "      <td>0</td>\n",
       "      <td>0</td>\n",
       "      <td>0</td>\n",
       "      <td>0</td>\n",
       "      <td>2</td>\n",
       "      <td>0</td>\n",
       "    </tr>\n",
       "    <tr>\n",
       "      <th>2</th>\n",
       "      <td>2</td>\n",
       "      <td>0</td>\n",
       "      <td>1</td>\n",
       "      <td>1</td>\n",
       "      <td>0</td>\n",
       "      <td>0</td>\n",
       "      <td>0</td>\n",
       "      <td>0</td>\n",
       "      <td>1</td>\n",
       "      <td>0</td>\n",
       "      <td>0</td>\n",
       "      <td>1</td>\n",
       "      <td>0</td>\n",
       "      <td>0</td>\n",
       "      <td>1</td>\n",
       "      <td>1</td>\n",
       "    </tr>\n",
       "    <tr>\n",
       "      <th>3</th>\n",
       "      <td>3</td>\n",
       "      <td>0</td>\n",
       "      <td>1</td>\n",
       "      <td>0</td>\n",
       "      <td>1</td>\n",
       "      <td>0</td>\n",
       "      <td>0</td>\n",
       "      <td>0</td>\n",
       "      <td>1</td>\n",
       "      <td>0</td>\n",
       "      <td>0</td>\n",
       "      <td>1</td>\n",
       "      <td>0</td>\n",
       "      <td>0</td>\n",
       "      <td>1</td>\n",
       "      <td>1</td>\n",
       "    </tr>\n",
       "    <tr>\n",
       "      <th>4</th>\n",
       "      <td>3</td>\n",
       "      <td>1</td>\n",
       "      <td>0</td>\n",
       "      <td>0</td>\n",
       "      <td>1</td>\n",
       "      <td>0</td>\n",
       "      <td>0</td>\n",
       "      <td>0</td>\n",
       "      <td>0</td>\n",
       "      <td>1</td>\n",
       "      <td>0</td>\n",
       "      <td>1</td>\n",
       "      <td>0</td>\n",
       "      <td>0</td>\n",
       "      <td>3</td>\n",
       "      <td>0</td>\n",
       "    </tr>\n",
       "  </tbody>\n",
       "</table>\n",
       "</div>"
      ],
      "text/plain": [
       "   Pclass  Parch  male  Q  S  Elderly  Young  Miss  Mr  Mrs  Outros  F2  F3  \\\n",
       "0       3      0     1  1  0        0      0     0   1    0       0   0   0   \n",
       "1       3      0     0  0  1        0      0     0   0    1       0   0   0   \n",
       "2       2      0     1  1  0        0      0     0   1    0       0   1   0   \n",
       "3       3      0     1  0  1        0      0     0   1    0       0   1   0   \n",
       "4       3      1     0  0  1        0      0     0   0    1       0   1   0   \n",
       "\n",
       "   F4  FamilySize  IsAlone  \n",
       "0   0           1        1  \n",
       "1   0           2        0  \n",
       "2   0           1        1  \n",
       "3   0           1        1  \n",
       "4   0           3        0  "
      ]
     },
     "execution_count": 63,
     "metadata": {},
     "output_type": "execute_result"
    }
   ],
   "source": [
    "X_test_of.head()"
   ]
  },
  {
   "cell_type": "code",
   "execution_count": 64,
   "metadata": {
    "ExecuteTime": {
     "end_time": "2020-07-06T02:17:07.990821Z",
     "start_time": "2020-07-06T02:17:07.887604Z"
    }
   },
   "outputs": [
    {
     "name": "stdout",
     "output_type": "stream",
     "text": [
      "<class 'pandas.core.frame.DataFrame'>\n",
      "Int64Index: 418 entries, 0 to 417\n",
      "Data columns (total 16 columns):\n",
      " #   Column      Non-Null Count  Dtype\n",
      "---  ------      --------------  -----\n",
      " 0   Pclass      418 non-null    int64\n",
      " 1   Parch       418 non-null    int64\n",
      " 2   male        418 non-null    int64\n",
      " 3   Q           418 non-null    int64\n",
      " 4   S           418 non-null    int64\n",
      " 5   Elderly     418 non-null    int64\n",
      " 6   Young       418 non-null    int64\n",
      " 7   Miss        418 non-null    int64\n",
      " 8   Mr          418 non-null    int64\n",
      " 9   Mrs         418 non-null    int64\n",
      " 10  Outros      418 non-null    int64\n",
      " 11  F2          418 non-null    int64\n",
      " 12  F3          418 non-null    int64\n",
      " 13  F4          418 non-null    int64\n",
      " 14  FamilySize  418 non-null    int64\n",
      " 15  IsAlone     418 non-null    int64\n",
      "dtypes: int64(16)\n",
      "memory usage: 55.5 KB\n"
     ]
    }
   ],
   "source": [
    "X_test_of.info()"
   ]
  },
  {
   "cell_type": "markdown",
   "metadata": {},
   "source": [
    "# Selecionando modelos"
   ]
  },
  {
   "cell_type": "code",
   "execution_count": 65,
   "metadata": {
    "ExecuteTime": {
     "end_time": "2020-07-06T02:17:08.324277Z",
     "start_time": "2020-07-06T02:17:07.994160Z"
    }
   },
   "outputs": [],
   "source": [
    "from sklearn.ensemble import RandomForestClassifier\n",
    "from xgboost import XGBClassifier\n",
    "from sklearn.linear_model import LogisticRegression\n",
    "from sklearn.svm import SVC\n",
    "from sklearn.neighbors import KNeighborsClassifier\n",
    "\n",
    "from sklearn.model_selection import RandomizedSearchCV"
   ]
  },
  {
   "cell_type": "markdown",
   "metadata": {},
   "source": [
    "## Tentativa 1"
   ]
  },
  {
   "cell_type": "code",
   "execution_count": 66,
   "metadata": {
    "ExecuteTime": {
     "end_time": "2020-07-06T02:17:08.780344Z",
     "start_time": "2020-07-06T02:17:08.327968Z"
    }
   },
   "outputs": [],
   "source": [
    "model1=RandomForestClassifier()\n",
    "model2=XGBClassifier()\n",
    "model3=LogisticRegression()\n",
    "model4=SVC(kernel='poly',gamma=1,C=0.1)\n",
    "model5=KNeighborsClassifier(n_neighbors=23,leaf_size=23,p=1)\n",
    "\n",
    "model=[model1,model2,model3,model4,model5]"
   ]
  },
  {
   "cell_type": "code",
   "execution_count": 67,
   "metadata": {
    "ExecuteTime": {
     "end_time": "2020-07-06T02:17:12.132344Z",
     "start_time": "2020-07-06T02:17:08.783185Z"
    }
   },
   "outputs": [
    {
     "name": "stdout",
     "output_type": "stream",
     "text": [
      "Model 1\n",
      "accuracy = 87.32\n",
      "Model 2\n",
      "accuracy = 87.09\n",
      "Model 3\n",
      "accuracy = 82.83\n",
      "Model 4\n",
      "accuracy = 86.53\n",
      "Model 5\n",
      "accuracy = 82.83\n"
     ]
    }
   ],
   "source": [
    "c=0\n",
    "for m in model:\n",
    "    c+=1\n",
    "    m.fit(X_train_of,y_train_of)\n",
    "    accur=round(m.score(X_train_of,y_train_of)*100,2)\n",
    "    print('Model',c)\n",
    "    print('accuracy =',accur)"
   ]
  },
  {
   "cell_type": "markdown",
   "metadata": {},
   "source": [
    "## Tentativa 2"
   ]
  },
  {
   "cell_type": "code",
   "execution_count": 68,
   "metadata": {
    "ExecuteTime": {
     "end_time": "2020-07-06T02:17:12.150737Z",
     "start_time": "2020-07-06T02:17:12.140325Z"
    }
   },
   "outputs": [],
   "source": [
    "from sklearn.model_selection import train_test_split"
   ]
  },
  {
   "cell_type": "code",
   "execution_count": 69,
   "metadata": {
    "ExecuteTime": {
     "end_time": "2020-07-06T02:17:12.387876Z",
     "start_time": "2020-07-06T02:17:12.154469Z"
    }
   },
   "outputs": [],
   "source": [
    "X_train, X_test, y_train, y_test = train_test_split(X_train_of,y_train_of,\n",
    "                                                    test_size=0.15,\n",
    "                                                    stratify=y_train_of)"
   ]
  },
  {
   "cell_type": "code",
   "execution_count": 70,
   "metadata": {
    "ExecuteTime": {
     "end_time": "2020-07-06T02:17:16.459101Z",
     "start_time": "2020-07-06T02:17:13.377616Z"
    }
   },
   "outputs": [],
   "source": [
    "error_rate = []\n",
    "\n",
    "# Will take some time\n",
    "for i in range(1,150):\n",
    "    \n",
    "    knn = KNeighborsClassifier(n_neighbors=i)\n",
    "    knn.fit(X_train,y_train)\n",
    "    pred_i = knn.predict(X_test)\n",
    "    error_rate.append(np.mean(pred_i != y_test))"
   ]
  },
  {
   "cell_type": "code",
   "execution_count": 71,
   "metadata": {
    "ExecuteTime": {
     "end_time": "2020-07-06T02:17:17.065924Z",
     "start_time": "2020-07-06T02:17:16.596558Z"
    }
   },
   "outputs": [
    {
     "data": {
      "text/plain": [
       "Text(0, 0.5, 'Error Rate')"
      ]
     },
     "execution_count": 71,
     "metadata": {},
     "output_type": "execute_result"
    },
    {
     "data": {
      "image/png": "[encoded data removed]",
      "text/plain": [
       "<Figure size 720x432 with 1 Axes>"
      ]
     },
     "metadata": {
      "needs_background": "light"
     },
     "output_type": "display_data"
    }
   ],
   "source": [
    "plt.figure(figsize=(10,6))\n",
    "plt.plot(range(1,150),error_rate,color='blue', linestyle='dashed', marker='o',\n",
    "         markerfacecolor='red', markersize=10)\n",
    "plt.title('Error Rate vs. K Value')\n",
    "plt.xlabel('K')\n",
    "plt.ylabel('Error Rate')"
   ]
  },
  {
   "cell_type": "code",
   "execution_count": 72,
   "metadata": {
    "ExecuteTime": {
     "end_time": "2020-07-06T02:17:17.230242Z",
     "start_time": "2020-07-06T02:17:17.220872Z"
    }
   },
   "outputs": [],
   "source": [
    "model1=RandomForestClassifier()\n",
    "model2=XGBClassifier()\n",
    "model3=LogisticRegression()\n",
    "model4=SVC(kernel='poly',gamma=1,C=0.1)\n",
    "model5=KNeighborsClassifier(n_neighbors=10)\n",
    "\n",
    "model=[model1,model2,model3,model4,model5]"
   ]
  },
  {
   "cell_type": "code",
   "execution_count": 73,
   "metadata": {
    "ExecuteTime": {
     "end_time": "2020-07-06T02:17:19.621652Z",
     "start_time": "2020-07-06T02:17:17.379675Z"
    }
   },
   "outputs": [
    {
     "name": "stdout",
     "output_type": "stream",
     "text": [
      "Model 1\n",
      "accuracy = 87.32\n",
      "Model 2\n",
      "accuracy = 87.09\n",
      "Model 3\n",
      "accuracy = 82.83\n",
      "Model 4\n",
      "accuracy = 86.53\n",
      "Model 5\n",
      "accuracy = 83.84\n"
     ]
    }
   ],
   "source": [
    "c=0\n",
    "for m in model:\n",
    "    c+=1\n",
    "    m.fit(X_train_of,y_train_of)\n",
    "    accur=round(m.score(X_train_of,y_train_of)*100,2)\n",
    "    print('Model',c)\n",
    "    print('accuracy =',accur)"
   ]
  },
  {
   "cell_type": "markdown",
   "metadata": {},
   "source": [
    "# RandomForestClassifier"
   ]
  },
  {
   "cell_type": "code",
   "execution_count": 75,
   "metadata": {
    "ExecuteTime": {
     "end_time": "2020-07-06T02:20:00.159297Z",
     "start_time": "2020-07-06T02:17:36.035760Z"
    },
    "scrolled": true
   },
   "outputs": [
    {
     "name": "stdout",
     "output_type": "stream",
     "text": [
      "Fitting 5 folds for each of 10 candidates, totalling 50 fits\n",
      "[CV] n_estimators=1200, min_samples_split=15, min_samples_leaf=8, max_features=log2, max_depth=10, bootstrap=True \n"
     ]
    },
    {
     "name": "stderr",
     "output_type": "stream",
     "text": [
      "[Parallel(n_jobs=1)]: Using backend SequentialBackend with 1 concurrent workers.\n"
     ]
    },
    {
     "name": "stdout",
     "output_type": "stream",
     "text": [
      "[CV]  n_estimators=1200, min_samples_split=15, min_samples_leaf=8, max_features=log2, max_depth=10, bootstrap=True, score=0.827, total=   4.6s\n",
      "[CV] n_estimators=1200, min_samples_split=15, min_samples_leaf=8, max_features=log2, max_depth=10, bootstrap=True \n"
     ]
    },
    {
     "name": "stderr",
     "output_type": "stream",
     "text": [
      "[Parallel(n_jobs=1)]: Done   1 out of   1 | elapsed:    4.6s remaining:    0.0s\n"
     ]
    },
    {
     "name": "stdout",
     "output_type": "stream",
     "text": [
      "[CV]  n_estimators=1200, min_samples_split=15, min_samples_leaf=8, max_features=log2, max_depth=10, bootstrap=True, score=0.820, total=   4.1s\n",
      "[CV] n_estimators=1200, min_samples_split=15, min_samples_leaf=8, max_features=log2, max_depth=10, bootstrap=True \n"
     ]
    },
    {
     "name": "stderr",
     "output_type": "stream",
     "text": [
      "[Parallel(n_jobs=1)]: Done   2 out of   2 | elapsed:    8.7s remaining:    0.0s\n"
     ]
    },
    {
     "name": "stdout",
     "output_type": "stream",
     "text": [
      "[CV]  n_estimators=1200, min_samples_split=15, min_samples_leaf=8, max_features=log2, max_depth=10, bootstrap=True, score=0.826, total=   4.0s\n",
      "[CV] n_estimators=1200, min_samples_split=15, min_samples_leaf=8, max_features=log2, max_depth=10, bootstrap=True \n",
      "[CV]  n_estimators=1200, min_samples_split=15, min_samples_leaf=8, max_features=log2, max_depth=10, bootstrap=True, score=0.792, total=   3.9s\n",
      "[CV] n_estimators=1200, min_samples_split=15, min_samples_leaf=8, max_features=log2, max_depth=10, bootstrap=True \n",
      "[CV]  n_estimators=1200, min_samples_split=15, min_samples_leaf=8, max_features=log2, max_depth=10, bootstrap=True, score=0.848, total=   4.3s\n",
      "[CV] n_estimators=1400, min_samples_split=10, min_samples_leaf=1, max_features=auto, max_depth=60, bootstrap=True \n",
      "[CV]  n_estimators=1400, min_samples_split=10, min_samples_leaf=1, max_features=auto, max_depth=60, bootstrap=True, score=0.838, total=   5.4s\n",
      "[CV] n_estimators=1400, min_samples_split=10, min_samples_leaf=1, max_features=auto, max_depth=60, bootstrap=True \n",
      "[CV]  n_estimators=1400, min_samples_split=10, min_samples_leaf=1, max_features=auto, max_depth=60, bootstrap=True, score=0.792, total=   4.6s\n",
      "[CV] n_estimators=1400, min_samples_split=10, min_samples_leaf=1, max_features=auto, max_depth=60, bootstrap=True \n",
      "[CV]  n_estimators=1400, min_samples_split=10, min_samples_leaf=1, max_features=auto, max_depth=60, bootstrap=True, score=0.826, total=   4.7s\n",
      "[CV] n_estimators=1400, min_samples_split=10, min_samples_leaf=1, max_features=auto, max_depth=60, bootstrap=True \n",
      "[CV]  n_estimators=1400, min_samples_split=10, min_samples_leaf=1, max_features=auto, max_depth=60, bootstrap=True, score=0.798, total=   4.4s\n",
      "[CV] n_estimators=1400, min_samples_split=10, min_samples_leaf=1, max_features=auto, max_depth=60, bootstrap=True \n",
      "[CV]  n_estimators=1400, min_samples_split=10, min_samples_leaf=1, max_features=auto, max_depth=60, bootstrap=True, score=0.848, total=   5.0s\n",
      "[CV] n_estimators=200, min_samples_split=5, min_samples_leaf=1, max_features=log2, max_depth=90, bootstrap=True \n",
      "[CV]  n_estimators=200, min_samples_split=5, min_samples_leaf=1, max_features=log2, max_depth=90, bootstrap=True, score=0.793, total=   0.6s\n",
      "[CV] n_estimators=200, min_samples_split=5, min_samples_leaf=1, max_features=log2, max_depth=90, bootstrap=True \n",
      "[CV]  n_estimators=200, min_samples_split=5, min_samples_leaf=1, max_features=log2, max_depth=90, bootstrap=True, score=0.775, total=   0.6s\n",
      "[CV] n_estimators=200, min_samples_split=5, min_samples_leaf=1, max_features=log2, max_depth=90, bootstrap=True \n",
      "[CV]  n_estimators=200, min_samples_split=5, min_samples_leaf=1, max_features=log2, max_depth=90, bootstrap=True, score=0.815, total=   0.8s\n",
      "[CV] n_estimators=200, min_samples_split=5, min_samples_leaf=1, max_features=log2, max_depth=90, bootstrap=True \n",
      "[CV]  n_estimators=200, min_samples_split=5, min_samples_leaf=1, max_features=log2, max_depth=90, bootstrap=True, score=0.803, total=   0.7s\n",
      "[CV] n_estimators=200, min_samples_split=5, min_samples_leaf=1, max_features=log2, max_depth=90, bootstrap=True \n",
      "[CV]  n_estimators=200, min_samples_split=5, min_samples_leaf=1, max_features=log2, max_depth=90, bootstrap=True, score=0.843, total=   0.6s\n",
      "[CV] n_estimators=1200, min_samples_split=10, min_samples_leaf=4, max_features=auto, max_depth=20, bootstrap=True \n",
      "[CV]  n_estimators=1200, min_samples_split=10, min_samples_leaf=4, max_features=auto, max_depth=20, bootstrap=True, score=0.844, total=   4.0s\n",
      "[CV] n_estimators=1200, min_samples_split=10, min_samples_leaf=4, max_features=auto, max_depth=20, bootstrap=True \n",
      "[CV]  n_estimators=1200, min_samples_split=10, min_samples_leaf=4, max_features=auto, max_depth=20, bootstrap=True, score=0.820, total=   3.8s\n",
      "[CV] n_estimators=1200, min_samples_split=10, min_samples_leaf=4, max_features=auto, max_depth=20, bootstrap=True \n",
      "[CV]  n_estimators=1200, min_samples_split=10, min_samples_leaf=4, max_features=auto, max_depth=20, bootstrap=True, score=0.831, total=   4.3s\n",
      "[CV] n_estimators=1200, min_samples_split=10, min_samples_leaf=4, max_features=auto, max_depth=20, bootstrap=True \n",
      "[CV]  n_estimators=1200, min_samples_split=10, min_samples_leaf=4, max_features=auto, max_depth=20, bootstrap=True, score=0.792, total=   4.4s\n",
      "[CV] n_estimators=1200, min_samples_split=10, min_samples_leaf=4, max_features=auto, max_depth=20, bootstrap=True \n",
      "[CV]  n_estimators=1200, min_samples_split=10, min_samples_leaf=4, max_features=auto, max_depth=20, bootstrap=True, score=0.854, total=   4.2s\n",
      "[CV] n_estimators=600, min_samples_split=2, min_samples_leaf=2, max_features=sqrt, max_depth=70, bootstrap=True \n",
      "[CV]  n_estimators=600, min_samples_split=2, min_samples_leaf=2, max_features=sqrt, max_depth=70, bootstrap=True, score=0.827, total=   1.7s\n",
      "[CV] n_estimators=600, min_samples_split=2, min_samples_leaf=2, max_features=sqrt, max_depth=70, bootstrap=True \n",
      "[CV]  n_estimators=600, min_samples_split=2, min_samples_leaf=2, max_features=sqrt, max_depth=70, bootstrap=True, score=0.781, total=   2.1s\n",
      "[CV] n_estimators=600, min_samples_split=2, min_samples_leaf=2, max_features=sqrt, max_depth=70, bootstrap=True \n",
      "[CV]  n_estimators=600, min_samples_split=2, min_samples_leaf=2, max_features=sqrt, max_depth=70, bootstrap=True, score=0.831, total=   1.9s\n",
      "[CV] n_estimators=600, min_samples_split=2, min_samples_leaf=2, max_features=sqrt, max_depth=70, bootstrap=True \n",
      "[CV]  n_estimators=600, min_samples_split=2, min_samples_leaf=2, max_features=sqrt, max_depth=70, bootstrap=True, score=0.792, total=   2.3s\n",
      "[CV] n_estimators=600, min_samples_split=2, min_samples_leaf=2, max_features=sqrt, max_depth=70, bootstrap=True \n",
      "[CV]  n_estimators=600, min_samples_split=2, min_samples_leaf=2, max_features=sqrt, max_depth=70, bootstrap=True, score=0.843, total=   2.1s\n",
      "[CV] n_estimators=1600, min_samples_split=15, min_samples_leaf=8, max_features=log2, max_depth=90, bootstrap=False \n",
      "[CV]  n_estimators=1600, min_samples_split=15, min_samples_leaf=8, max_features=log2, max_depth=90, bootstrap=False, score=0.844, total=   4.3s\n",
      "[CV] n_estimators=1600, min_samples_split=15, min_samples_leaf=8, max_features=log2, max_depth=90, bootstrap=False \n",
      "[CV]  n_estimators=1600, min_samples_split=15, min_samples_leaf=8, max_features=log2, max_depth=90, bootstrap=False, score=0.820, total=   4.4s\n",
      "[CV] n_estimators=1600, min_samples_split=15, min_samples_leaf=8, max_features=log2, max_depth=90, bootstrap=False \n",
      "[CV]  n_estimators=1600, min_samples_split=15, min_samples_leaf=8, max_features=log2, max_depth=90, bootstrap=False, score=0.831, total=   4.0s\n",
      "[CV] n_estimators=1600, min_samples_split=15, min_samples_leaf=8, max_features=log2, max_depth=90, bootstrap=False \n",
      "[CV]  n_estimators=1600, min_samples_split=15, min_samples_leaf=8, max_features=log2, max_depth=90, bootstrap=False, score=0.792, total=   4.4s\n",
      "[CV] n_estimators=1600, min_samples_split=15, min_samples_leaf=8, max_features=log2, max_depth=90, bootstrap=False \n",
      "[CV]  n_estimators=1600, min_samples_split=15, min_samples_leaf=8, max_features=log2, max_depth=90, bootstrap=False, score=0.854, total=   4.1s\n",
      "[CV] n_estimators=600, min_samples_split=10, min_samples_leaf=4, max_features=auto, max_depth=90, bootstrap=True \n",
      "[CV]  n_estimators=600, min_samples_split=10, min_samples_leaf=4, max_features=auto, max_depth=90, bootstrap=True, score=0.838, total=   2.1s\n",
      "[CV] n_estimators=600, min_samples_split=10, min_samples_leaf=4, max_features=auto, max_depth=90, bootstrap=True \n",
      "[CV]  n_estimators=600, min_samples_split=10, min_samples_leaf=4, max_features=auto, max_depth=90, bootstrap=True, score=0.798, total=   2.0s\n",
      "[CV] n_estimators=600, min_samples_split=10, min_samples_leaf=4, max_features=auto, max_depth=90, bootstrap=True \n",
      "[CV]  n_estimators=600, min_samples_split=10, min_samples_leaf=4, max_features=auto, max_depth=90, bootstrap=True, score=0.831, total=   2.0s\n",
      "[CV] n_estimators=600, min_samples_split=10, min_samples_leaf=4, max_features=auto, max_depth=90, bootstrap=True \n",
      "[CV]  n_estimators=600, min_samples_split=10, min_samples_leaf=4, max_features=auto, max_depth=90, bootstrap=True, score=0.792, total=   1.9s\n",
      "[CV] n_estimators=600, min_samples_split=10, min_samples_leaf=4, max_features=auto, max_depth=90, bootstrap=True \n"
     ]
    },
    {
     "name": "stdout",
     "output_type": "stream",
     "text": [
      "[CV]  n_estimators=600, min_samples_split=10, min_samples_leaf=4, max_features=auto, max_depth=90, bootstrap=True, score=0.843, total=   2.3s\n",
      "[CV] n_estimators=800, min_samples_split=2, min_samples_leaf=6, max_features=auto, max_depth=30, bootstrap=False \n",
      "[CV]  n_estimators=800, min_samples_split=2, min_samples_leaf=6, max_features=auto, max_depth=30, bootstrap=False, score=0.827, total=   2.0s\n",
      "[CV] n_estimators=800, min_samples_split=2, min_samples_leaf=6, max_features=auto, max_depth=30, bootstrap=False \n",
      "[CV]  n_estimators=800, min_samples_split=2, min_samples_leaf=6, max_features=auto, max_depth=30, bootstrap=False, score=0.820, total=   2.0s\n",
      "[CV] n_estimators=800, min_samples_split=2, min_samples_leaf=6, max_features=auto, max_depth=30, bootstrap=False \n",
      "[CV]  n_estimators=800, min_samples_split=2, min_samples_leaf=6, max_features=auto, max_depth=30, bootstrap=False, score=0.831, total=   1.8s\n",
      "[CV] n_estimators=800, min_samples_split=2, min_samples_leaf=6, max_features=auto, max_depth=30, bootstrap=False \n",
      "[CV]  n_estimators=800, min_samples_split=2, min_samples_leaf=6, max_features=auto, max_depth=30, bootstrap=False, score=0.792, total=   2.0s\n",
      "[CV] n_estimators=800, min_samples_split=2, min_samples_leaf=6, max_features=auto, max_depth=30, bootstrap=False \n",
      "[CV]  n_estimators=800, min_samples_split=2, min_samples_leaf=6, max_features=auto, max_depth=30, bootstrap=False, score=0.865, total=   1.8s\n",
      "[CV] n_estimators=800, min_samples_split=15, min_samples_leaf=1, max_features=log2, max_depth=100, bootstrap=False \n",
      "[CV]  n_estimators=800, min_samples_split=15, min_samples_leaf=1, max_features=log2, max_depth=100, bootstrap=False, score=0.827, total=   2.0s\n",
      "[CV] n_estimators=800, min_samples_split=15, min_samples_leaf=1, max_features=log2, max_depth=100, bootstrap=False \n",
      "[CV]  n_estimators=800, min_samples_split=15, min_samples_leaf=1, max_features=log2, max_depth=100, bootstrap=False, score=0.775, total=   1.8s\n",
      "[CV] n_estimators=800, min_samples_split=15, min_samples_leaf=1, max_features=log2, max_depth=100, bootstrap=False \n",
      "[CV]  n_estimators=800, min_samples_split=15, min_samples_leaf=1, max_features=log2, max_depth=100, bootstrap=False, score=0.848, total=   2.2s\n",
      "[CV] n_estimators=800, min_samples_split=15, min_samples_leaf=1, max_features=log2, max_depth=100, bootstrap=False \n",
      "[CV]  n_estimators=800, min_samples_split=15, min_samples_leaf=1, max_features=log2, max_depth=100, bootstrap=False, score=0.798, total=   2.1s\n",
      "[CV] n_estimators=800, min_samples_split=15, min_samples_leaf=1, max_features=log2, max_depth=100, bootstrap=False \n",
      "[CV]  n_estimators=800, min_samples_split=15, min_samples_leaf=1, max_features=log2, max_depth=100, bootstrap=False, score=0.843, total=   2.4s\n",
      "[CV] n_estimators=600, min_samples_split=5, min_samples_leaf=6, max_features=sqrt, max_depth=10, bootstrap=True \n",
      "[CV]  n_estimators=600, min_samples_split=5, min_samples_leaf=6, max_features=sqrt, max_depth=10, bootstrap=True, score=0.838, total=   1.9s\n",
      "[CV] n_estimators=600, min_samples_split=5, min_samples_leaf=6, max_features=sqrt, max_depth=10, bootstrap=True \n",
      "[CV]  n_estimators=600, min_samples_split=5, min_samples_leaf=6, max_features=sqrt, max_depth=10, bootstrap=True, score=0.820, total=   2.0s\n",
      "[CV] n_estimators=600, min_samples_split=5, min_samples_leaf=6, max_features=sqrt, max_depth=10, bootstrap=True \n",
      "[CV]  n_estimators=600, min_samples_split=5, min_samples_leaf=6, max_features=sqrt, max_depth=10, bootstrap=True, score=0.831, total=   1.7s\n",
      "[CV] n_estimators=600, min_samples_split=5, min_samples_leaf=6, max_features=sqrt, max_depth=10, bootstrap=True \n",
      "[CV]  n_estimators=600, min_samples_split=5, min_samples_leaf=6, max_features=sqrt, max_depth=10, bootstrap=True, score=0.792, total=   2.1s\n",
      "[CV] n_estimators=600, min_samples_split=5, min_samples_leaf=6, max_features=sqrt, max_depth=10, bootstrap=True \n",
      "[CV]  n_estimators=600, min_samples_split=5, min_samples_leaf=6, max_features=sqrt, max_depth=10, bootstrap=True, score=0.843, total=   1.8s\n"
     ]
    },
    {
     "name": "stderr",
     "output_type": "stream",
     "text": [
      "[Parallel(n_jobs=1)]: Done  50 out of  50 | elapsed:  2.3min finished\n"
     ]
    },
    {
     "data": {
      "text/plain": [
       "RandomizedSearchCV(cv=None, error_score=nan,\n",
       "                   estimator=RandomForestClassifier(bootstrap=True,\n",
       "                                                    ccp_alpha=0.0,\n",
       "                                                    class_weight=None,\n",
       "                                                    criterion='gini',\n",
       "                                                    max_depth=None,\n",
       "                                                    max_features='auto',\n",
       "                                                    max_leaf_nodes=None,\n",
       "                                                    max_samples=None,\n",
       "                                                    min_impurity_decrease=0.0,\n",
       "                                                    min_impurity_split=None,\n",
       "                                                    min_samples_leaf=1,\n",
       "                                                    min_samples_split=2,\n",
       "                                                    min_weight_fraction_leaf=0.0,\n",
       "                                                    n_estimators=100,\n",
       "                                                    n_j...\n",
       "                   param_distributions={'bootstrap': [True, False],\n",
       "                                        'max_depth': [10, 20, 30, 40, 50, 60,\n",
       "                                                      70, 80, 90, 100, None],\n",
       "                                        'max_features': ['auto', 'sqrt',\n",
       "                                                         'log2'],\n",
       "                                        'min_samples_leaf': [1, 2, 4, 6, 8],\n",
       "                                        'min_samples_split': [2, 5, 10, 15],\n",
       "                                        'n_estimators': [200, 400, 600, 800,\n",
       "                                                         1000, 1200, 1400, 1600,\n",
       "                                                         1800, 2000]},\n",
       "                   pre_dispatch='2*n_jobs', random_state=None, refit=True,\n",
       "                   return_train_score=False, scoring=None, verbose=3)"
      ]
     },
     "execution_count": 75,
     "metadata": {},
     "output_type": "execute_result"
    }
   ],
   "source": [
    "param_grid={'bootstrap': [True, False],\n",
    " 'max_depth': [10, 20, 30, 40, 50, 60, 70, 80, 90, 100, None],\n",
    " 'max_features': ['auto', 'sqrt', 'log2'],\n",
    " 'min_samples_leaf': [1, 2, 4, 6, 8],\n",
    " 'min_samples_split': [2, 5, 10, 15],\n",
    " 'n_estimators': [200, 400, 600, 800, 1000, 1200, 1400, 1600, 1800, 2000]}\n",
    "grid = RandomizedSearchCV(RandomForestClassifier(), param_grid, refit = True, verbose = 3) \n",
    "grid.fit(X_train_of, y_train_of)"
   ]
  },
  {
   "cell_type": "code",
   "execution_count": 76,
   "metadata": {
    "ExecuteTime": {
     "end_time": "2020-07-06T02:20:00.336777Z",
     "start_time": "2020-07-06T02:20:00.328082Z"
    }
   },
   "outputs": [
    {
     "data": {
      "text/plain": [
       "{'n_estimators': 1200,\n",
       " 'min_samples_split': 10,\n",
       " 'min_samples_leaf': 4,\n",
       " 'max_features': 'auto',\n",
       " 'max_depth': 20,\n",
       " 'bootstrap': True}"
      ]
     },
     "execution_count": 76,
     "metadata": {},
     "output_type": "execute_result"
    }
   ],
   "source": [
    "grid.best_params_"
   ]
  },
  {
   "cell_type": "code",
   "execution_count": 135,
   "metadata": {
    "ExecuteTime": {
     "end_time": "2020-07-06T02:35:46.612023Z",
     "start_time": "2020-07-06T02:35:42.031862Z"
    }
   },
   "outputs": [
    {
     "data": {
      "text/plain": [
       "84.62"
      ]
     },
     "execution_count": 135,
     "metadata": {},
     "output_type": "execute_result"
    }
   ],
   "source": [
    "model = RandomForestClassifier(n_estimators=1200,\n",
    "                               min_samples_split=10,\n",
    "                               min_samples_leaf=4,\n",
    "                               max_features='auto',\n",
    "                               max_depth=20,\n",
    "                               bootstrap= True)\n",
    "model.fit(X_train_of, y_train_of)\n",
    "y_pred = model.predict(X_test_of)\n",
    "y_pred = pd.Series(y_pred)\n",
    "accur = round(model.score(X_train_of, y_train_of)*100, 2)\n",
    "accur"
   ]
  },
  {
   "cell_type": "code",
   "execution_count": 136,
   "metadata": {
    "ExecuteTime": {
     "end_time": "2020-07-06T02:35:48.998282Z",
     "start_time": "2020-07-06T02:35:48.988587Z"
    }
   },
   "outputs": [],
   "source": [
    "output = pd.DataFrame({'PassengerId': PassengerId, 'Survived': y_pred})"
   ]
  },
  {
   "cell_type": "code",
   "execution_count": 137,
   "metadata": {
    "ExecuteTime": {
     "end_time": "2020-07-06T02:35:49.857363Z",
     "start_time": "2020-07-06T02:35:49.845588Z"
    }
   },
   "outputs": [
    {
     "data": {
      "text/html": [
       "<div>\n",
       "<style scoped>\n",
       "    .dataframe tbody tr th:only-of-type {\n",
       "        vertical-align: middle;\n",
       "    }\n",
       "\n",
       "    .dataframe tbody tr th {\n",
       "        vertical-align: top;\n",
       "    }\n",
       "\n",
       "    .dataframe thead th {\n",
       "        text-align: right;\n",
       "    }\n",
       "</style>\n",
       "<table border=\"1\" class=\"dataframe\">\n",
       "  <thead>\n",
       "    <tr style=\"text-align: right;\">\n",
       "      <th></th>\n",
       "      <th>PassengerId</th>\n",
       "      <th>Survived</th>\n",
       "    </tr>\n",
       "  </thead>\n",
       "  <tbody>\n",
       "    <tr>\n",
       "      <th>0</th>\n",
       "      <td>892</td>\n",
       "      <td>0</td>\n",
       "    </tr>\n",
       "    <tr>\n",
       "      <th>1</th>\n",
       "      <td>893</td>\n",
       "      <td>1</td>\n",
       "    </tr>\n",
       "    <tr>\n",
       "      <th>2</th>\n",
       "      <td>894</td>\n",
       "      <td>0</td>\n",
       "    </tr>\n",
       "    <tr>\n",
       "      <th>3</th>\n",
       "      <td>895</td>\n",
       "      <td>0</td>\n",
       "    </tr>\n",
       "    <tr>\n",
       "      <th>4</th>\n",
       "      <td>896</td>\n",
       "      <td>1</td>\n",
       "    </tr>\n",
       "  </tbody>\n",
       "</table>\n",
       "</div>"
      ],
      "text/plain": [
       "   PassengerId  Survived\n",
       "0          892         0\n",
       "1          893         1\n",
       "2          894         0\n",
       "3          895         0\n",
       "4          896         1"
      ]
     },
     "execution_count": 137,
     "metadata": {},
     "output_type": "execute_result"
    }
   ],
   "source": [
    "output.head()"
   ]
  },
  {
   "cell_type": "code",
   "execution_count": 138,
   "metadata": {
    "ExecuteTime": {
     "end_time": "2020-07-06T02:35:52.632458Z",
     "start_time": "2020-07-06T02:35:52.624258Z"
    }
   },
   "outputs": [],
   "source": [
    "output = pd.DataFrame({'PassengerId': PassengerId, 'Survived': y_pred})"
   ]
  },
  {
   "cell_type": "code",
   "execution_count": 139,
   "metadata": {
    "ExecuteTime": {
     "end_time": "2020-07-06T02:35:53.371045Z",
     "start_time": "2020-07-06T02:35:53.357020Z"
    }
   },
   "outputs": [
    {
     "data": {
      "text/plain": [
       "0    265\n",
       "1    153\n",
       "Name: Survived, dtype: int64"
      ]
     },
     "execution_count": 139,
     "metadata": {},
     "output_type": "execute_result"
    }
   ],
   "source": [
    "output['Survived'].value_counts()"
   ]
  },
  {
   "cell_type": "code",
   "execution_count": 81,
   "metadata": {
    "ExecuteTime": {
     "end_time": "2020-07-06T02:20:25.868707Z",
     "start_time": "2020-07-06T02:20:25.815110Z"
    }
   },
   "outputs": [
    {
     "name": "stdout",
     "output_type": "stream",
     "text": [
      "Your submission was successfully saved!\n"
     ]
    }
   ],
   "source": [
    "output.to_csv('my_submission_derick.csv', index=False)\n",
    "print(\"Your submission was successfully saved!\")"
   ]
  },
  {
   "cell_type": "code",
   "execution_count": 82,
   "metadata": {
    "ExecuteTime": {
     "end_time": "2020-07-06T02:20:26.384455Z",
     "start_time": "2020-07-06T02:20:26.373577Z"
    }
   },
   "outputs": [
    {
     "name": "stdout",
     "output_type": "stream",
     "text": [
      "<class 'pandas.core.frame.DataFrame'>\n",
      "Int64Index: 418 entries, 0 to 417\n",
      "Data columns (total 2 columns):\n",
      " #   Column       Non-Null Count  Dtype\n",
      "---  ------       --------------  -----\n",
      " 0   PassengerId  418 non-null    int64\n",
      " 1   Survived     418 non-null    int64\n",
      "dtypes: int64(2)\n",
      "memory usage: 9.8 KB\n"
     ]
    }
   ],
   "source": [
    "output.info()"
   ]
  },
  {
   "cell_type": "markdown",
   "metadata": {},
   "source": [
    "# Rede Neural - ANN"
   ]
  },
  {
   "cell_type": "code",
   "execution_count": 83,
   "metadata": {
    "ExecuteTime": {
     "end_time": "2020-07-06T02:20:27.782570Z",
     "start_time": "2020-07-06T02:20:27.778404Z"
    }
   },
   "outputs": [],
   "source": [
    "import tensorflow as tf"
   ]
  },
  {
   "cell_type": "code",
   "execution_count": 84,
   "metadata": {
    "ExecuteTime": {
     "end_time": "2020-07-06T02:20:28.741160Z",
     "start_time": "2020-07-06T02:20:28.705845Z"
    }
   },
   "outputs": [
    {
     "name": "stdout",
     "output_type": "stream",
     "text": [
      "2.2.0\n",
      "Num GPUs Available:  1\n",
      "[PhysicalDevice(name='/physical_device:CPU:0', device_type='CPU'), PhysicalDevice(name='/physical_device:XLA_CPU:0', device_type='XLA_CPU'), PhysicalDevice(name='/physical_device:GPU:0', device_type='GPU'), PhysicalDevice(name='/physical_device:XLA_GPU:0', device_type='XLA_GPU')]\n",
      "[PhysicalDevice(name='/physical_device:CPU:0', device_type='CPU'), PhysicalDevice(name='/physical_device:GPU:0', device_type='GPU')]\n",
      "is_build_with_cuda: True\n",
      "is_build_with_gpu_support: True\n"
     ]
    }
   ],
   "source": [
    "print(tf.__version__)\n",
    "print('Num GPUs Available: ', len(tf.config.list_physical_devices('GPU')))\n",
    "print(tf.config.list_physical_devices())\n",
    "print(tf.config.get_visible_devices())\n",
    "print('is_build_with_cuda:', tf.test.is_built_with_cuda())\n",
    "print('is_build_with_gpu_support:', tf.test.is_built_with_gpu_support())"
   ]
  },
  {
   "cell_type": "code",
   "execution_count": 85,
   "metadata": {
    "ExecuteTime": {
     "end_time": "2020-07-06T02:20:30.732793Z",
     "start_time": "2020-07-06T02:20:30.727775Z"
    }
   },
   "outputs": [],
   "source": [
    "from tensorflow.keras.models import Sequential\n",
    "from tensorflow.keras.layers import Dense, Dropout"
   ]
  },
  {
   "cell_type": "code",
   "execution_count": 86,
   "metadata": {
    "ExecuteTime": {
     "end_time": "2020-07-06T02:20:31.114627Z",
     "start_time": "2020-07-06T02:20:31.106027Z"
    }
   },
   "outputs": [
    {
     "data": {
      "text/plain": [
       "(891, 16)"
      ]
     },
     "execution_count": 86,
     "metadata": {},
     "output_type": "execute_result"
    }
   ],
   "source": [
    "X_train_of.shape"
   ]
  },
  {
   "cell_type": "code",
   "execution_count": 173,
   "metadata": {
    "ExecuteTime": {
     "end_time": "2020-07-06T02:45:49.081891Z",
     "start_time": "2020-07-06T02:45:49.029677Z"
    }
   },
   "outputs": [],
   "source": [
    "model = Sequential()\n",
    "model.add(Dense(16, activation='relu'))\n",
    "model.add(Dense(32, activation='relu'))\n",
    "model.add(Dense(32, activation='relu'))\n",
    "model.add(Dense(16, activation='relu'))\n",
    "\n",
    "#BINARY CLASSIFICATION\n",
    "model.add(Dense(1, activation='sigmoid'))\n",
    "model.compile(loss='binary_crossentropy', \n",
    "              optimizer='adam', \n",
    "              metrics = ['accuracy'])"
   ]
  },
  {
   "cell_type": "code",
   "execution_count": 174,
   "metadata": {
    "ExecuteTime": {
     "end_time": "2020-07-06T02:45:49.670587Z",
     "start_time": "2020-07-06T02:45:49.665122Z"
    }
   },
   "outputs": [],
   "source": [
    "from tensorflow.keras.callbacks import EarlyStopping\n",
    "early_stop = EarlyStopping(monitor='val_loss', mode='min', verbose=1, patience=25)"
   ]
  },
  {
   "cell_type": "code",
   "execution_count": 175,
   "metadata": {
    "ExecuteTime": {
     "end_time": "2020-07-06T02:46:13.213394Z",
     "start_time": "2020-07-06T02:45:50.417209Z"
    },
    "scrolled": true
   },
   "outputs": [
    {
     "name": "stdout",
     "output_type": "stream",
     "text": [
      "Epoch 1/600\n",
      "23/23 [==============================] - 1s 28ms/step - loss: 0.6337 - accuracy: 0.6433 - val_loss: 0.5805 - val_accuracy: 0.6816\n",
      "Epoch 2/600\n",
      "23/23 [==============================] - 0s 16ms/step - loss: 0.5999 - accuracy: 0.6559 - val_loss: 0.5378 - val_accuracy: 0.7374\n",
      "Epoch 3/600\n",
      "23/23 [==============================] - 0s 14ms/step - loss: 0.5654 - accuracy: 0.7219 - val_loss: 0.5066 - val_accuracy: 0.7654\n",
      "Epoch 4/600\n",
      "23/23 [==============================] - 0s 12ms/step - loss: 0.5283 - accuracy: 0.7472 - val_loss: 0.4693 - val_accuracy: 0.7765\n",
      "Epoch 5/600\n",
      "23/23 [==============================] - 0s 14ms/step - loss: 0.4926 - accuracy: 0.7837 - val_loss: 0.4413 - val_accuracy: 0.7989\n",
      "Epoch 6/600\n",
      "23/23 [==============================] - 0s 13ms/step - loss: 0.4700 - accuracy: 0.7879 - val_loss: 0.4231 - val_accuracy: 0.8156\n",
      "Epoch 7/600\n",
      "23/23 [==============================] - 0s 15ms/step - loss: 0.4587 - accuracy: 0.8020 - val_loss: 0.4127 - val_accuracy: 0.8156\n",
      "Epoch 8/600\n",
      "23/23 [==============================] - 0s 14ms/step - loss: 0.4496 - accuracy: 0.7978 - val_loss: 0.4026 - val_accuracy: 0.8156\n",
      "Epoch 9/600\n",
      "23/23 [==============================] - 0s 13ms/step - loss: 0.4436 - accuracy: 0.8132 - val_loss: 0.3992 - val_accuracy: 0.8380\n",
      "Epoch 10/600\n",
      "23/23 [==============================] - 0s 12ms/step - loss: 0.4377 - accuracy: 0.8076 - val_loss: 0.3864 - val_accuracy: 0.8268\n",
      "Epoch 11/600\n",
      "23/23 [==============================] - 0s 14ms/step - loss: 0.4334 - accuracy: 0.8160 - val_loss: 0.3824 - val_accuracy: 0.8324\n",
      "Epoch 12/600\n",
      "23/23 [==============================] - 0s 15ms/step - loss: 0.4413 - accuracy: 0.8160 - val_loss: 0.4001 - val_accuracy: 0.8268\n",
      "Epoch 13/600\n",
      "23/23 [==============================] - 0s 12ms/step - loss: 0.4341 - accuracy: 0.8146 - val_loss: 0.3821 - val_accuracy: 0.8156\n",
      "Epoch 14/600\n",
      "23/23 [==============================] - 0s 15ms/step - loss: 0.4311 - accuracy: 0.8230 - val_loss: 0.3674 - val_accuracy: 0.8603\n",
      "Epoch 15/600\n",
      "23/23 [==============================] - 0s 15ms/step - loss: 0.4252 - accuracy: 0.8132 - val_loss: 0.3667 - val_accuracy: 0.8324\n",
      "Epoch 16/600\n",
      "23/23 [==============================] - 0s 13ms/step - loss: 0.4199 - accuracy: 0.8202 - val_loss: 0.3632 - val_accuracy: 0.8492\n",
      "Epoch 17/600\n",
      "23/23 [==============================] - 0s 16ms/step - loss: 0.4179 - accuracy: 0.8202 - val_loss: 0.3586 - val_accuracy: 0.8547\n",
      "Epoch 18/600\n",
      "23/23 [==============================] - 0s 12ms/step - loss: 0.4188 - accuracy: 0.8230 - val_loss: 0.3587 - val_accuracy: 0.8492\n",
      "Epoch 19/600\n",
      "23/23 [==============================] - 0s 12ms/step - loss: 0.4152 - accuracy: 0.8230 - val_loss: 0.3575 - val_accuracy: 0.8715\n",
      "Epoch 20/600\n",
      "23/23 [==============================] - 0s 14ms/step - loss: 0.4310 - accuracy: 0.8118 - val_loss: 0.3693 - val_accuracy: 0.8324\n",
      "Epoch 21/600\n",
      "23/23 [==============================] - 0s 13ms/step - loss: 0.4141 - accuracy: 0.8244 - val_loss: 0.3583 - val_accuracy: 0.8659\n",
      "Epoch 22/600\n",
      "23/23 [==============================] - 0s 12ms/step - loss: 0.4120 - accuracy: 0.8272 - val_loss: 0.3511 - val_accuracy: 0.8659\n",
      "Epoch 23/600\n",
      "23/23 [==============================] - 0s 13ms/step - loss: 0.4107 - accuracy: 0.8244 - val_loss: 0.3520 - val_accuracy: 0.8492\n",
      "Epoch 24/600\n",
      "23/23 [==============================] - 0s 13ms/step - loss: 0.4113 - accuracy: 0.8216 - val_loss: 0.3474 - val_accuracy: 0.8715\n",
      "Epoch 25/600\n",
      "23/23 [==============================] - 0s 13ms/step - loss: 0.4093 - accuracy: 0.8301 - val_loss: 0.3467 - val_accuracy: 0.8715\n",
      "Epoch 26/600\n",
      "23/23 [==============================] - 0s 13ms/step - loss: 0.4060 - accuracy: 0.8230 - val_loss: 0.3518 - val_accuracy: 0.8603\n",
      "Epoch 27/600\n",
      "23/23 [==============================] - 0s 15ms/step - loss: 0.4059 - accuracy: 0.8287 - val_loss: 0.3434 - val_accuracy: 0.8603\n",
      "Epoch 28/600\n",
      "23/23 [==============================] - 0s 14ms/step - loss: 0.4071 - accuracy: 0.8258 - val_loss: 0.3450 - val_accuracy: 0.8547\n",
      "Epoch 29/600\n",
      "23/23 [==============================] - 0s 13ms/step - loss: 0.4019 - accuracy: 0.8244 - val_loss: 0.3477 - val_accuracy: 0.8715\n",
      "Epoch 30/600\n",
      "23/23 [==============================] - 0s 12ms/step - loss: 0.4004 - accuracy: 0.8357 - val_loss: 0.3438 - val_accuracy: 0.8715\n",
      "Epoch 31/600\n",
      "23/23 [==============================] - 0s 13ms/step - loss: 0.3984 - accuracy: 0.8301 - val_loss: 0.3424 - val_accuracy: 0.8827\n",
      "Epoch 32/600\n",
      "23/23 [==============================] - 0s 13ms/step - loss: 0.4004 - accuracy: 0.8301 - val_loss: 0.3475 - val_accuracy: 0.8715\n",
      "Epoch 33/600\n",
      "23/23 [==============================] - 0s 12ms/step - loss: 0.4061 - accuracy: 0.8272 - val_loss: 0.3446 - val_accuracy: 0.8771\n",
      "Epoch 34/600\n",
      "23/23 [==============================] - 0s 13ms/step - loss: 0.3966 - accuracy: 0.8329 - val_loss: 0.3447 - val_accuracy: 0.8715\n",
      "Epoch 35/600\n",
      "23/23 [==============================] - 0s 12ms/step - loss: 0.3970 - accuracy: 0.8287 - val_loss: 0.3401 - val_accuracy: 0.8659\n",
      "Epoch 36/600\n",
      "23/23 [==============================] - 0s 15ms/step - loss: 0.3945 - accuracy: 0.8287 - val_loss: 0.3380 - val_accuracy: 0.8715\n",
      "Epoch 37/600\n",
      "23/23 [==============================] - 0s 16ms/step - loss: 0.3953 - accuracy: 0.8343 - val_loss: 0.3389 - val_accuracy: 0.8659\n",
      "Epoch 38/600\n",
      "23/23 [==============================] - 0s 14ms/step - loss: 0.3920 - accuracy: 0.8329 - val_loss: 0.3392 - val_accuracy: 0.8883\n",
      "Epoch 39/600\n",
      "23/23 [==============================] - 0s 14ms/step - loss: 0.3923 - accuracy: 0.8315 - val_loss: 0.3409 - val_accuracy: 0.8659\n",
      "Epoch 40/600\n",
      "23/23 [==============================] - 0s 14ms/step - loss: 0.3940 - accuracy: 0.8301 - val_loss: 0.3369 - val_accuracy: 0.8771\n",
      "Epoch 41/600\n",
      "23/23 [==============================] - 0s 15ms/step - loss: 0.3914 - accuracy: 0.8329 - val_loss: 0.3411 - val_accuracy: 0.8659\n",
      "Epoch 42/600\n",
      "23/23 [==============================] - 0s 15ms/step - loss: 0.3928 - accuracy: 0.8343 - val_loss: 0.3432 - val_accuracy: 0.8771\n",
      "Epoch 43/600\n",
      "23/23 [==============================] - 0s 16ms/step - loss: 0.3928 - accuracy: 0.8216 - val_loss: 0.3421 - val_accuracy: 0.8771\n",
      "Epoch 44/600\n",
      "23/23 [==============================] - 0s 12ms/step - loss: 0.3883 - accuracy: 0.8343 - val_loss: 0.3406 - val_accuracy: 0.8771\n",
      "Epoch 45/600\n",
      "23/23 [==============================] - 0s 11ms/step - loss: 0.3890 - accuracy: 0.8258 - val_loss: 0.3447 - val_accuracy: 0.8771\n",
      "Epoch 46/600\n",
      "23/23 [==============================] - 0s 13ms/step - loss: 0.3902 - accuracy: 0.8329 - val_loss: 0.3444 - val_accuracy: 0.8771\n",
      "Epoch 47/600\n",
      "23/23 [==============================] - 0s 12ms/step - loss: 0.3902 - accuracy: 0.8329 - val_loss: 0.3425 - val_accuracy: 0.8827\n",
      "Epoch 48/600\n",
      "23/23 [==============================] - 0s 11ms/step - loss: 0.3842 - accuracy: 0.8343 - val_loss: 0.3407 - val_accuracy: 0.8659\n",
      "Epoch 49/600\n",
      "23/23 [==============================] - 0s 15ms/step - loss: 0.3871 - accuracy: 0.8301 - val_loss: 0.3396 - val_accuracy: 0.8715\n",
      "Epoch 50/600\n",
      "23/23 [==============================] - 0s 15ms/step - loss: 0.3825 - accuracy: 0.8329 - val_loss: 0.3396 - val_accuracy: 0.8659\n",
      "Epoch 51/600\n",
      "23/23 [==============================] - 0s 12ms/step - loss: 0.3820 - accuracy: 0.8329 - val_loss: 0.3423 - val_accuracy: 0.8771\n",
      "Epoch 52/600\n",
      "23/23 [==============================] - 0s 15ms/step - loss: 0.3869 - accuracy: 0.8357 - val_loss: 0.3401 - val_accuracy: 0.8827\n",
      "Epoch 53/600\n",
      "23/23 [==============================] - 0s 14ms/step - loss: 0.3793 - accuracy: 0.8371 - val_loss: 0.3397 - val_accuracy: 0.8715\n",
      "Epoch 54/600\n",
      "23/23 [==============================] - 0s 14ms/step - loss: 0.3809 - accuracy: 0.8371 - val_loss: 0.3417 - val_accuracy: 0.8771\n",
      "Epoch 55/600\n",
      "23/23 [==============================] - 0s 14ms/step - loss: 0.3806 - accuracy: 0.8343 - val_loss: 0.3392 - val_accuracy: 0.8771\n",
      "Epoch 56/600\n",
      "23/23 [==============================] - 0s 11ms/step - loss: 0.3777 - accuracy: 0.8357 - val_loss: 0.3396 - val_accuracy: 0.8659\n",
      "Epoch 57/600\n",
      "23/23 [==============================] - 0s 15ms/step - loss: 0.3769 - accuracy: 0.8357 - val_loss: 0.3383 - val_accuracy: 0.8771\n",
      "Epoch 58/600\n"
     ]
    },
    {
     "name": "stdout",
     "output_type": "stream",
     "text": [
      "23/23 [==============================] - 0s 15ms/step - loss: 0.3776 - accuracy: 0.8343 - val_loss: 0.3402 - val_accuracy: 0.8659\n",
      "Epoch 59/600\n",
      "23/23 [==============================] - 0s 12ms/step - loss: 0.3759 - accuracy: 0.8413 - val_loss: 0.3418 - val_accuracy: 0.8715\n",
      "Epoch 60/600\n",
      "23/23 [==============================] - 0s 16ms/step - loss: 0.3793 - accuracy: 0.8441 - val_loss: 0.3388 - val_accuracy: 0.8659\n",
      "Epoch 61/600\n",
      "23/23 [==============================] - 0s 13ms/step - loss: 0.3761 - accuracy: 0.8315 - val_loss: 0.3422 - val_accuracy: 0.8771\n",
      "Epoch 62/600\n",
      "23/23 [==============================] - 0s 12ms/step - loss: 0.3762 - accuracy: 0.8413 - val_loss: 0.3483 - val_accuracy: 0.8827\n",
      "Epoch 63/600\n",
      "23/23 [==============================] - 0s 13ms/step - loss: 0.3722 - accuracy: 0.8413 - val_loss: 0.3396 - val_accuracy: 0.8547\n",
      "Epoch 64/600\n",
      "23/23 [==============================] - 0s 14ms/step - loss: 0.3785 - accuracy: 0.8371 - val_loss: 0.3408 - val_accuracy: 0.8547\n",
      "Epoch 65/600\n",
      "23/23 [==============================] - 0s 16ms/step - loss: 0.3770 - accuracy: 0.8329 - val_loss: 0.3406 - val_accuracy: 0.8547\n",
      "Epoch 00065: early stopping\n"
     ]
    }
   ],
   "source": [
    "neural = model.fit(X_train_of.values, y_train_of.values,\n",
    "          epochs=600, \n",
    "          validation_split=0.2,\n",
    "          callbacks=[early_stop])"
   ]
  },
  {
   "cell_type": "code",
   "execution_count": 176,
   "metadata": {
    "ExecuteTime": {
     "end_time": "2020-07-06T02:46:13.822316Z",
     "start_time": "2020-07-06T02:46:13.383965Z"
    }
   },
   "outputs": [
    {
     "data": {
      "text/plain": [
       "0.8441011309623718"
      ]
     },
     "execution_count": 176,
     "metadata": {},
     "output_type": "execute_result"
    },
    {
     "data": {
      "image/png": "[encoded data removed]",
      "text/plain": [
       "<Figure size 432x288 with 1 Axes>"
      ]
     },
     "metadata": {
      "needs_background": "light"
     },
     "output_type": "display_data"
    }
   ],
   "source": [
    "model_loss = pd.DataFrame(model.history.history)\n",
    "model_loss.plot()\n",
    "pd.Series(neural.history['accuracy']).max()"
   ]
  },
  {
   "cell_type": "code",
   "execution_count": 201,
   "metadata": {
    "ExecuteTime": {
     "end_time": "2020-07-06T02:56:46.909971Z",
     "start_time": "2020-07-06T02:56:46.790652Z"
    }
   },
   "outputs": [],
   "source": [
    "y_pred = (model.predict(X_test_of.values) > 0.5).astype(\"int32\")\n",
    "y_pred = y_pred.reshape((418,))"
   ]
  },
  {
   "cell_type": "code",
   "execution_count": 202,
   "metadata": {
    "ExecuteTime": {
     "end_time": "2020-07-06T02:56:47.996114Z",
     "start_time": "2020-07-06T02:56:47.983822Z"
    }
   },
   "outputs": [
    {
     "data": {
      "text/plain": [
       "(418,)"
      ]
     },
     "execution_count": 202,
     "metadata": {},
     "output_type": "execute_result"
    }
   ],
   "source": [
    "y_pred.shape"
   ]
  },
  {
   "cell_type": "code",
   "execution_count": 203,
   "metadata": {
    "ExecuteTime": {
     "end_time": "2020-07-06T02:56:50.200328Z",
     "start_time": "2020-07-06T02:56:50.193278Z"
    }
   },
   "outputs": [],
   "source": [
    "y_pred = pd.Series(y_pred)"
   ]
  },
  {
   "cell_type": "code",
   "execution_count": 204,
   "metadata": {
    "ExecuteTime": {
     "end_time": "2020-07-06T02:56:51.476997Z",
     "start_time": "2020-07-06T02:56:51.459131Z"
    }
   },
   "outputs": [
    {
     "data": {
      "text/plain": [
       "0    281\n",
       "1    137\n",
       "Name: Survived, dtype: int64"
      ]
     },
     "execution_count": 204,
     "metadata": {},
     "output_type": "execute_result"
    }
   ],
   "source": [
    "output = pd.DataFrame({'PassengerId': PassengerId, 'Survived': y_pred})\n",
    "output['Survived'].value_counts()"
   ]
  },
  {
   "cell_type": "code",
   "execution_count": 205,
   "metadata": {
    "ExecuteTime": {
     "end_time": "2020-07-06T02:57:11.706365Z",
     "start_time": "2020-07-06T02:57:11.695633Z"
    }
   },
   "outputs": [
    {
     "data": {
      "text/html": [
       "<div>\n",
       "<style scoped>\n",
       "    .dataframe tbody tr th:only-of-type {\n",
       "        vertical-align: middle;\n",
       "    }\n",
       "\n",
       "    .dataframe tbody tr th {\n",
       "        vertical-align: top;\n",
       "    }\n",
       "\n",
       "    .dataframe thead th {\n",
       "        text-align: right;\n",
       "    }\n",
       "</style>\n",
       "<table border=\"1\" class=\"dataframe\">\n",
       "  <thead>\n",
       "    <tr style=\"text-align: right;\">\n",
       "      <th></th>\n",
       "      <th>PassengerId</th>\n",
       "      <th>Survived</th>\n",
       "    </tr>\n",
       "  </thead>\n",
       "  <tbody>\n",
       "    <tr>\n",
       "      <th>0</th>\n",
       "      <td>892</td>\n",
       "      <td>0</td>\n",
       "    </tr>\n",
       "    <tr>\n",
       "      <th>1</th>\n",
       "      <td>893</td>\n",
       "      <td>0</td>\n",
       "    </tr>\n",
       "    <tr>\n",
       "      <th>2</th>\n",
       "      <td>894</td>\n",
       "      <td>0</td>\n",
       "    </tr>\n",
       "    <tr>\n",
       "      <th>3</th>\n",
       "      <td>895</td>\n",
       "      <td>0</td>\n",
       "    </tr>\n",
       "    <tr>\n",
       "      <th>4</th>\n",
       "      <td>896</td>\n",
       "      <td>0</td>\n",
       "    </tr>\n",
       "  </tbody>\n",
       "</table>\n",
       "</div>"
      ],
      "text/plain": [
       "   PassengerId  Survived\n",
       "0          892         0\n",
       "1          893         0\n",
       "2          894         0\n",
       "3          895         0\n",
       "4          896         0"
      ]
     },
     "execution_count": 205,
     "metadata": {},
     "output_type": "execute_result"
    }
   ],
   "source": [
    "output.head()"
   ]
  },
  {
   "cell_type": "code",
   "execution_count": 206,
   "metadata": {
    "ExecuteTime": {
     "end_time": "2020-07-06T02:57:39.168283Z",
     "start_time": "2020-07-06T02:57:39.159446Z"
    }
   },
   "outputs": [
    {
     "name": "stdout",
     "output_type": "stream",
     "text": [
      "Your submission was successfully saved!\n"
     ]
    }
   ],
   "source": [
    "output.to_csv('my_submission_derick_ANN.csv', index=False)\n",
    "print(\"Your submission was successfully saved!\")"
   ]
  },
  {
   "cell_type": "code",
   "execution_count": null,
   "metadata": {},
   "outputs": [],
   "source": []
  }
 ],
 "metadata": {
  "kernelspec": {
   "display_name": "Python 3",
   "language": "python",
   "name": "python3"
  },
  "language_info": {
   "codemirror_mode": {
    "name": "ipython",
    "version": 3
   },
   "file_extension": ".py",
   "mimetype": "text/x-python",
   "name": "python",
   "nbconvert_exporter": "python",
   "pygments_lexer": "ipython3",
   "version": "3.7.6"
  },
  "toc": {
   "base_numbering": 1,
   "nav_menu": {},
   "number_sections": true,
   "sideBar": true,
   "skip_h1_title": false,
   "title_cell": "Table of Contents",
   "title_sidebar": "Contents",
   "toc_cell": false,
   "toc_position": {},
   "toc_section_display": true,
   "toc_window_display": true
  },
  "varInspector": {
   "cols": {
    "lenName": 16,
    "lenType": 16,
    "lenVar": 40
   },
   "kernels_config": {
    "python": {
     "delete_cmd_postfix": "",
     "delete_cmd_prefix": "del ",
     "library": "var_list.py",
     "varRefreshCmd": "print(var_dic_list())"
    },
    "r": {
     "delete_cmd_postfix": ") ",
     "delete_cmd_prefix": "rm(",
     "library": "var_list.r",
     "varRefreshCmd": "cat(var_dic_list()) "
    }
   },
   "types_to_exclude": [
    "module",
    "function",
    "builtin_function_or_method",
    "instance",
    "_Feature"
   ],
   "window_display": false
  }
 },
 "nbformat": 4,
 "nbformat_minor": 4
}
